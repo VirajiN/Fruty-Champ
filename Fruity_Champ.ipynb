{
  "nbformat": 4,
  "nbformat_minor": 0,
  "metadata": {
    "colab": {
      "name": "Fruity-Champ.ipynb",
      "provenance": []
    },
    "kernelspec": {
      "name": "python3",
      "display_name": "Python 3"
    },
    "language_info": {
      "name": "python"
    }
  },
  "cells": [
    {
      "cell_type": "code",
      "metadata": {
        "id": "tOGAuFHP88ZQ"
      },
      "source": [
        "#rsp board imports\n",
        "import RPi.GPIO as GPIO\n",
        "import pygame\n",
        "\n",
        "import time"
      ],
      "execution_count": null,
      "outputs": []
    },
    {
      "cell_type": "code",
      "metadata": {
        "id": "VrPh7j999deL"
      },
      "source": [
        "#GPIO Mode (BOARD)\n",
        "GPIO.setmode(GPIO.BOARD)"
      ],
      "execution_count": null,
      "outputs": []
    },
    {
      "cell_type": "code",
      "metadata": {
        "id": "kf0l0Hlx9lOw"
      },
      "source": [
        "#set GPIO Pins\n",
        "TRIG = 18\n",
        "ECHO = 24\n",
        "\n",
        "i=0"
      ],
      "execution_count": null,
      "outputs": []
    },
    {
      "cell_type": "code",
      "metadata": {
        "id": "ucu0cknv9ttE"
      },
      "source": [
        "#set GPIO direction (IN / OUT)\n",
        "GPIO.setup(TRIGG, GPIO.OUT)\n",
        "GPIO.setup(ECHO, GPIO.IN)"
      ],
      "execution_count": null,
      "outputs": []
    },
    {
      "cell_type": "code",
      "metadata": {
        "id": "H9yrRM__99lH"
      },
      "source": [
        "#set trigger to low\n",
        "GPIO.output(TRIG, False)\n",
        "print(\"Calibrating...\")\n",
        "time.sleep(2)"
      ],
      "execution_count": null,
      "outputs": []
    },
    {
      "cell_type": "code",
      "metadata": {
        "id": "w5qPLddo-iJ3"
      },
      "source": [
        "#Setting up mortors\n",
        "GPIO.setmode(GPIO.BOARD)\n",
        "\n",
        "Motor1A = 16\n",
        "Motor1B = 18\n",
        "Motor1E = 22\n",
        "\n",
        "GPIO.setup(Motor1A, GPIO.OUT)\n",
        "GPIO.setup(Motor1B, GPIO.OUT)\n",
        "GPIO.setup(Motor1E, GPIO.OUT)\n",
        "\n",
        "try:\n",
        "  while true:\n",
        "    GPIO.output(TRIG, true)\n",
        "    time.sleep(0.00001)\n",
        "    GPIO.output(TRIG, False)\n",
        "\n",
        "    while GPIO.input(ECHO) == 0:\n",
        "      pulse_start = time.time()\n",
        "\n",
        "    while GPIO.input(ECHO) == 1:\n",
        "      pulse_end = time.time()\n",
        "\n",
        "    pulse_duration = pulse_end - pulse_start\n",
        "\n",
        "    distance = pulse_duration * 17150\n",
        "\n",
        "    distance = round(distance + 1.15, 2)\n",
        "\n",
        "    if distance <= 20 :\n",
        "      #play the audio\n",
        "      pygame.mixer.init()\n",
        "      pygame.mixer.music.load(\"filename.wav\")\n",
        "      pygame.mixer.music.play()\n",
        "\n",
        "      while pygame.mixer.music.play() == true:\n",
        "        #Start the motion of the motors\n",
        "        #forward motion\n",
        "        GPIO.output(Motor1A, GPIO.HIGH)\n",
        "        GPIO.output(Motor1B, GPIO.LOW)\n",
        "        GPIO.output(Motor1E, GPIO.HIGH)\n",
        "\n",
        "        time.sleep(2)\n",
        "\n",
        "        #backward motion\n",
        "        GPIO.output(Motor1A, GPIO.LOW)\n",
        "        GPIO.output(Motor1B, GPIO.HIGH)\n",
        "        GPIO.output(Motor1E, GPIO.HIGH)\n",
        "\n",
        "        time.sleep(2)\n",
        "\n",
        "        #stop\n",
        "        GPIO.output(Motor1E, GPIO.LOW)\n",
        "\n",
        "        GPIO.cleanup():\n",
        "        while pygame.mixer.music.get_busy() == true:\n",
        "          continue:\n",
        "        \n",
        "        time.sleep(10)\n",
        "\n",
        "        #code to capture the audio goes here\n",
        "        #include\n",
        "\n",
        "        #play reply audio\n",
        "        pygame.mixer.init()\n",
        "        pygame.mixer.music.load(\"reply_filename.wav\")\n",
        "        pygame.mixer.music.play()\n",
        "\n",
        "        while pygame.mixer.music.get_busy() == true:\n",
        "          continue:\n",
        "\n",
        "        i = 1:\n",
        "\n",
        "    if distance > 20 and i == 1:\n",
        "      print(\"Waiting for a customer...\")\n",
        "      i = 0\n",
        "    time.sleep(2)     "
      ],
      "execution_count": null,
      "outputs": []
    }
  ]
}